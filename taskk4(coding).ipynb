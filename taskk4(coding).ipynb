{
 "cells": [
  {
   "cell_type": "code",
   "execution_count": 2,
   "id": "89a25e54-9874-4193-9314-2945b546db23",
   "metadata": {},
   "outputs": [
    {
     "name": "stdout",
     "output_type": "stream",
     "text": [
      "\n",
      "Auction Menu:\n",
      "1. Add Item\n",
      "2. Place Bid\n",
      "3. End Auction\n",
      "4. Display Results\n",
      "5. Exit\n"
     ]
    },
    {
     "name": "stdin",
     "output_type": "stream",
     "text": [
      "Enter your choice:  1\n",
      "Enter item number:  33\n",
      "Enter item description:  unsold items\n",
      "Enter reserve price:  500\n"
     ]
    },
    {
     "name": "stdout",
     "output_type": "stream",
     "text": [
      "\n",
      "Auction Menu:\n",
      "1. Add Item\n",
      "2. Place Bid\n",
      "3. End Auction\n",
      "4. Display Results\n",
      "5. Exit\n"
     ]
    },
    {
     "name": "stdin",
     "output_type": "stream",
     "text": [
      "Enter your choice:  fries\n"
     ]
    },
    {
     "ename": "ValueError",
     "evalue": "invalid literal for int() with base 10: 'fries'",
     "output_type": "error",
     "traceback": [
      "\u001b[1;31m---------------------------------------------------------------------------\u001b[0m",
      "\u001b[1;31mValueError\u001b[0m                                Traceback (most recent call last)",
      "Cell \u001b[1;32mIn[2], line 112\u001b[0m\n\u001b[0;32m    108\u001b[0m             \u001b[38;5;28mprint\u001b[39m(\u001b[38;5;124m\"\u001b[39m\u001b[38;5;124mInvalid choice. Please try again.\u001b[39m\u001b[38;5;124m\"\u001b[39m)\n\u001b[0;32m    111\u001b[0m \u001b[38;5;28;01mif\u001b[39;00m \u001b[38;5;18m__name__\u001b[39m \u001b[38;5;241m==\u001b[39m \u001b[38;5;124m\"\u001b[39m\u001b[38;5;124m__main__\u001b[39m\u001b[38;5;124m\"\u001b[39m:\n\u001b[1;32m--> 112\u001b[0m     main()\n",
      "Cell \u001b[1;32mIn[2], line 90\u001b[0m, in \u001b[0;36mmain\u001b[1;34m()\u001b[0m\n\u001b[0;32m     88\u001b[0m \u001b[38;5;28mprint\u001b[39m(\u001b[38;5;124m\"\u001b[39m\u001b[38;5;124m4. Display Results\u001b[39m\u001b[38;5;124m\"\u001b[39m)\n\u001b[0;32m     89\u001b[0m \u001b[38;5;28mprint\u001b[39m(\u001b[38;5;124m\"\u001b[39m\u001b[38;5;124m5. Exit\u001b[39m\u001b[38;5;124m\"\u001b[39m)\n\u001b[1;32m---> 90\u001b[0m choice \u001b[38;5;241m=\u001b[39m \u001b[38;5;28mint\u001b[39m(\u001b[38;5;28minput\u001b[39m(\u001b[38;5;124m\"\u001b[39m\u001b[38;5;124mEnter your choice: \u001b[39m\u001b[38;5;124m\"\u001b[39m))\n\u001b[0;32m     91\u001b[0m \u001b[38;5;28;01mif\u001b[39;00m choice \u001b[38;5;241m==\u001b[39m \u001b[38;5;241m1\u001b[39m:\n\u001b[0;32m     92\u001b[0m     item_number \u001b[38;5;241m=\u001b[39m \u001b[38;5;28mint\u001b[39m(\u001b[38;5;28minput\u001b[39m(\u001b[38;5;124m\"\u001b[39m\u001b[38;5;124mEnter item number: \u001b[39m\u001b[38;5;124m\"\u001b[39m))\n",
      "\u001b[1;31mValueError\u001b[0m: invalid literal for int() with base 10: 'fries'"
     ]
    }
   ],
   "source": [
    "class AuctionItem:\n",
    "    def __init__(self, item_number, description, reserve_price):\n",
    "        self.item_number = item_number\n",
    "        self.description = description\n",
    "        self.reserve_price = reserve_price\n",
    "        self.bids = []\n",
    "        self.sold = False\n",
    "\n",
    "    def add_bid(self, bid):\n",
    "        if bid > self.get_highest_bid():\n",
    "            self.bids.append(bid)\n",
    "            return True\n",
    "        else:\n",
    "            return False\n",
    "\n",
    "    def get_highest_bid(self):\n",
    "        if self.bids:\n",
    "            return max(self.bids)\n",
    "        else:\n",
    "            return 0\n",
    "\n",
    "    def mark_as_sold(self):\n",
    "        self.sold = True\n",
    "\n",
    "    def get_fee(self):\n",
    "        return self.get_highest_bid() * 0.1\n",
    "\n",
    "    def __str__(self):\n",
    "        return f\"Item {self.item_number}: {self.description} - Reserve Price: {self.reserve_price} - Bids: {self.bids} - Sold: {self.sold}\"\n",
    "\n",
    "\n",
    "class Auction:\n",
    "    def __init__(self):\n",
    "        self.items = []\n",
    "        self.sold_items = []\n",
    "        self.unsold_items = []\n",
    "        self.fee = 0\n",
    "\n",
    "    def add_item(self, item):\n",
    "        self.items.append(item)\n",
    "\n",
    "    def find_item(self, item_number):\n",
    "        for item in self.items:\n",
    "            if item.item_number == item_number:\n",
    "                return item\n",
    "        return None\n",
    "\n",
    "    def place_bid(self, buyer_number, item_number, bid):\n",
    "        item = self.find_item(item_number)\n",
    "        if item:\n",
    "            if item.add_bid(bid):\n",
    "                print(f\"Bid of {bid} placed successfully for item {item_number}\")\n",
    "            else:\n",
    "                print(f\"Bid of {bid} not placed. Bid must be higher than any existing bids.\")\n",
    "        else:\n",
    "            print(f\"Item {item_number} not found.\")\n",
    "\n",
    "    def end_auction(self):\n",
    "        for item in self.items:\n",
    "            if item.get_highest_bid() >= item.reserve_price:\n",
    "                item.mark_as_sold()\n",
    "                self.sold_items.append(item)\n",
    "                self.fee += item.get_fee()\n",
    "            else:\n",
    "                self.unsold_items.append(item)\n",
    "\n",
    "    def display_results(self):\n",
    "        print(\"\\nAuction Results:\")\n",
    "        print(f\"Total Fee: {self.fee}\")\n",
    "        print(f\"Number of sold items: {len(self.sold_items)}\")\n",
    "        print(f\"Number of unsold items: {len(self.unsold_items)}\")\n",
    "        print(f\"Number of items with no bids: {len(self.items) - len(self.sold_items) - len(self.unsold_items)}\")\n",
    "        print(\"\\nSold Items:\")\n",
    "        for item in self.sold_items:\n",
    "            print(f\"Item {item.item_number} - Final Bid: {item.get_highest_bid()}\")\n",
    "        print(\"\\nUnsold Items:\")\n",
    "        for item in self.unsold_items:\n",
    "            print(f\"Item {item.item_number} - No bids\")\n",
    "\n",
    "\n",
    "def main():\n",
    "    auction = Auction()\n",
    "    while True:\n",
    "        print(\"\\nAuction Menu:\")\n",
    "        print(\"1. Add Item\")\n",
    "        print(\"2. Place Bid\")\n",
    "        print(\"3. End Auction\")\n",
    "        print(\"4. Display Results\")\n",
    "        print(\"5. Exit\")\n",
    "        choice = int(input(\"Enter your choice: \"))\n",
    "        if choice == 1:\n",
    "            item_number = int(input(\"Enter item number: \"))\n",
    "            description = input(\"Enter item description: \")\n",
    "            reserve_price = float(input(\"Enter reserve price: \"))\n",
    "            auction.add_item(AuctionItem(item_number, description, reserve_price))\n",
    "        elif choice == 2:\n",
    "            buyer_number = int(input(\"Enter bu`yer number: \"))\n",
    "            item_number = int(input(\"Enter item number: \"))\n",
    "            bid = float(input(\"Enter bid: \"))\n",
    "            auction.place_bid(buyer_number, item_number, bid)\n",
    "        elif choice == 3:\n",
    "            auction.end_auction()\n",
    "        elif choice == 4:\n",
    "            auction.display_results()\n",
    "        elif choice == 5:\n",
    "            break\n",
    "        else:\n",
    "            print(\"Invalid choice. Please try again.\")\n",
    "\n",
    "\n",
    "if __name__ == \"__main__\":\n",
    "    main()"
   ]
  },
  {
   "cell_type": "code",
   "execution_count": null,
   "id": "b532b51c-7329-4b16-a4d5-4c8297206944",
   "metadata": {},
   "outputs": [],
   "source": []
  }
 ],
 "metadata": {
  "kernelspec": {
   "display_name": "Python 3 (ipykernel)",
   "language": "python",
   "name": "python3"
  },
  "language_info": {
   "codemirror_mode": {
    "name": "ipython",
    "version": 3
   },
   "file_extension": ".py",
   "mimetype": "text/x-python",
   "name": "python",
   "nbconvert_exporter": "python",
   "pygments_lexer": "ipython3",
   "version": "3.11.7"
  },
  "widgets": {
   "application/vnd.jupyter.widget-state+json": {
    "state": {},
    "version_major": 2,
    "version_minor": 0
   }
  }
 },
 "nbformat": 4,
 "nbformat_minor": 5
}
